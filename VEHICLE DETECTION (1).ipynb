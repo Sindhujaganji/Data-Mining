{
 "cells": [
  {
   "cell_type": "code",
   "execution_count": 1,
   "id": "3d4d9d6e",
   "metadata": {},
   "outputs": [],
   "source": [
    "import pandas as pd\n",
    "import numpy as np\n",
    "import os\n",
    "import matplotlib.pyplot as plt\n",
    "import seaborn as sns\n",
    "from pathlib import Path"
   ]
  },
  {
   "cell_type": "code",
   "execution_count": 2,
   "id": "21c070f0",
   "metadata": {},
   "outputs": [],
   "source": [
    "Vehicles= r'C:\\Users\\HT\\data\\non-vehicles'\n",
    "Non_Vehicles = r'C:\\Users\\HT\\data\\vehicles'"
   ]
  },
  {
   "cell_type": "code",
   "execution_count": 3,
   "id": "f6682954",
   "metadata": {},
   "outputs": [],
   "source": [
    "vehicles_data = os.listdir(Vehicles)\n",
    "non_vehicles_data = os.listdir(Non_Vehicles)"
   ]
  },
  {
   "cell_type": "code",
   "execution_count": 4,
   "id": "77869fd4",
   "metadata": {},
   "outputs": [
    {
     "name": "stdout",
     "output_type": "stream",
     "text": [
      "['extra1.png', 'extra10.png', 'extra100.png', 'extra1000.png', 'extra1001.png']\n",
      "['1.png', '10.png', '1000.png', '1001.png', '1002.png']\n"
     ]
    }
   ],
   "source": [
    "print(vehicles_data[:5])\n",
    "print(non_vehicles_data[:5])"
   ]
  },
  {
   "cell_type": "markdown",
   "id": "ca41378b",
   "metadata": {},
   "source": [
    "# Train-Test Split"
   ]
  },
  {
   "cell_type": "code",
   "execution_count": 5,
   "id": "4916ca44",
   "metadata": {},
   "outputs": [],
   "source": [
    "Base_directory = '../Temp/'\n",
    "Train_directory = os.path.join(Base_directory, 'train')\n",
    "Test_directory = os.path.join(Base_directory, 'test')\n",
    "Vehicles_train_data = os.path.join(Train_directory, 'vehicles')\n",
    "Non_vehicles_train_data = os.path.join(Train_directory, 'non-vehicles')\n",
    "Vehicles_test_data = os.path.join(Test_directory, 'vehicles')\n",
    "Non_vehicles_test_data = os.path.join(Test_directory, 'non-vehicles')"
   ]
  },
  {
   "cell_type": "code",
   "execution_count": 6,
   "id": "6429d487",
   "metadata": {},
   "outputs": [],
   "source": [
    "from sklearn.model_selection import train_test_split\n",
    "train_vehicles,test_vehicles = train_test_split(\n",
    "    vehicles_data, train_size=0.7, shuffle=True, random_state=0)"
   ]
  },
  {
   "cell_type": "code",
   "execution_count": 7,
   "id": "d94ddd4b",
   "metadata": {},
   "outputs": [],
   "source": [
    "train_non_vehicles,test_non_vehicles = train_test_split(\n",
    "    non_vehicles_data, train_size=0.7, shuffle=True, random_state=0)"
   ]
  },
  {
   "cell_type": "code",
   "execution_count": 8,
   "id": "0c096c00",
   "metadata": {},
   "outputs": [
    {
     "name": "stdout",
     "output_type": "stream",
     "text": [
      "Train vehicle image data size: 6277\n",
      "Test vehicle image size: 6154\n",
      "Train vehicle image data size: 2691\n",
      "Test size for non vehicles: 2638\n"
     ]
    }
   ],
   "source": [
    "print('Train vehicle image data size:', len(train_vehicles))\n",
    "print('Test vehicle image size:', len(train_non_vehicles))\n",
    "\n",
    "print('Train vehicle image data size:', len(test_vehicles))\n",
    "print('Test size for non vehicles:', len(test_non_vehicles))"
   ]
  },
  {
   "cell_type": "markdown",
   "id": "a2cfc960",
   "metadata": {},
   "source": [
    "# Copy Images to New Directory"
   ]
  },
  {
   "cell_type": "code",
   "execution_count": 9,
   "id": "d7107207",
   "metadata": {},
   "outputs": [],
   "source": [
    "import shutil\n",
    "def copy_images(images_lst,old_dir,new_dir):\n",
    "    if not os.path.exists(new_dir):\n",
    "        os.makedirs(new_dir)\n",
    "    for file_name in images_lst:\n",
    "        shutil.copy(\n",
    "            os.path.join(old_dir, file_name),\n",
    "            os.path.join(new_dir, file_name)\n",
    "        )\n",
    "    print(f'{len(images_lst)} Copying Image data to{new_dir}')"
   ]
  },
  {
   "cell_type": "code",
   "execution_count": 10,
   "id": "67c826c7",
   "metadata": {},
   "outputs": [
    {
     "name": "stdout",
     "output_type": "stream",
     "text": [
      "6277 Copying Image data to../Temp/train\\vehicles\n",
      "6154 Copying Image data to../Temp/train\\non-vehicles\n",
      "2691 Copying Image data to../Temp/test\\vehicles\n",
      "2638 Copying Image data to../Temp/test\\non-vehicles\n"
     ]
    }
   ],
   "source": [
    "copy_images(train_vehicles, Vehicles, Vehicles_train_data)\n",
    "copy_images(train_non_vehicles,Non_Vehicles, Non_vehicles_train_data)\n",
    "copy_images(test_vehicles, Vehicles, Vehicles_test_data)\n",
    "copy_images(test_non_vehicles, Non_Vehicles, Non_vehicles_test_data)\n"
   ]
  },
  {
   "cell_type": "code",
   "execution_count": 11,
   "id": "1f23164f",
   "metadata": {},
   "outputs": [
    {
     "data": {
      "text/plain": [
       "6277"
      ]
     },
     "execution_count": 11,
     "metadata": {},
     "output_type": "execute_result"
    }
   ],
   "source": [
    "len(os.listdir(Vehicles_train_data))"
   ]
  },
  {
   "cell_type": "code",
   "execution_count": 12,
   "id": "51230ba8",
   "metadata": {},
   "outputs": [
    {
     "data": {
      "text/plain": [
       "6154"
      ]
     },
     "execution_count": 12,
     "metadata": {},
     "output_type": "execute_result"
    }
   ],
   "source": [
    "len(os.listdir(Non_vehicles_train_data))"
   ]
  },
  {
   "cell_type": "code",
   "execution_count": 13,
   "id": "edf5a0c7",
   "metadata": {},
   "outputs": [],
   "source": [
    "Image_size=250"
   ]
  },
  {
   "cell_type": "code",
   "execution_count": 14,
   "id": "7a13565b",
   "metadata": {},
   "outputs": [
    {
     "name": "stdout",
     "output_type": "stream",
     "text": [
      "Found 12431 images belonging to 2 classes.\n",
      "Found 5329 images belonging to 2 classes.\n"
     ]
    }
   ],
   "source": [
    "import tensorflow as tf\n",
    "from tensorflow.keras import layers \n",
    "train_data= tf.keras.preprocessing.image.ImageDataGenerator(\n",
    "    rescale=1./249\n",
    ")\n",
    "\n",
    "t_gen = train_data.flow_from_directory(\n",
    "    Train_directory,\n",
    "    target_size=(Image_size, Image_size),\n",
    "    shuffle=True,\n",
    "    class_mode='categorical'\n",
    ")\n",
    "\n",
    "test_data = tf.keras.preprocessing.image.ImageDataGenerator(\n",
    "    rescale=1./249\n",
    ")\n",
    "test_gen = test_data.flow_from_directory(\n",
    "    Test_directory,\n",
    "    target_size=(Image_size, Image_size),\n",
    "    class_mode='categorical'\n",
    ")"
   ]
  },
  {
   "cell_type": "markdown",
   "id": "0fb60d61",
   "metadata": {},
   "source": [
    "# Convolutional Neural Network (CNN)"
   ]
  },
  {
   "cell_type": "code",
   "execution_count": 15,
   "id": "6d0e7b32",
   "metadata": {},
   "outputs": [],
   "source": [
    "cnn_model = tf.keras.Sequential([\n",
    "    layers.Conv2D(32, (3, 3), activation='relu', input_shape=(Image_size, Image_size, 3)),\n",
    "    layers.MaxPool2D((2, 2)),\n",
    "    layers.Conv2D(64, (3, 3), activation='relu'),\n",
    "    layers.MaxPool2D(2, 2),\n",
    "    layers.Flatten(),\n",
    "    layers.Dense(1, activation='sigmoid')\n",
    "])\n",
    "cnn_model.compile(\n",
    "    optimizer='adam',\n",
    "    loss='binary_crossentropy',\n",
    "    loss_weights=None,\n",
    "    run_eagerly=None,\n",
    "    steps_per_execution=None,\n",
    "    metrics=['accuracy']\n",
    ")"
   ]
  },
  {
   "cell_type": "code",
   "execution_count": 16,
   "id": "ecb8a779",
   "metadata": {},
   "outputs": [],
   "source": [
    "#Training the Model"
   ]
  },
  {
   "cell_type": "code",
   "execution_count": 21,
   "id": "5ea06ad7",
   "metadata": {},
   "outputs": [],
   "source": [
    "early_stopping = tf.keras.callbacks.EarlyStopping(\n",
    "    monitor='val_accuracy',\n",
    "    verbose=0,\n",
    "    mode='auto'\n",
    ")\n",
    "model_path = 'vehicle_detection.h5'\n",
    "model_checkpoint = tf.keras.callbacks.ModelCheckpoint(\n",
    "    model_path,\n",
    "    save_best_only=True,\n",
    "    save_freq=\"epoch\",\n",
    "    options=None\n",
    ")"
   ]
  },
  {
   "cell_type": "code",
   "execution_count": 26,
   "id": "6ee9b60b",
   "metadata": {},
   "outputs": [
    {
     "name": "stdout",
     "output_type": "stream",
     "text": [
      "Epoch 1/10\n",
      "389/389 [==============================] - 761s 2s/step - loss: 0.6931 - accuracy: 0.5000 - val_loss: 0.6931 - val_accuracy: 0.5000\n",
      "Epoch 2/10\n",
      "389/389 [==============================] - 815s 2s/step - loss: 0.6931 - accuracy: 0.5000 - val_loss: 0.6931 - val_accuracy: 0.5000\n"
     ]
    }
   ],
   "source": [
    "history= cnn_model.fit(\n",
    "    t_gen,\n",
    "    epochs=10,\n",
    "    batch_size=128,\n",
    "    verbose=1,\n",
    "    validation_data=test_gen,\n",
    "    callbacks=[early_stopping, model_checkpoint]\n",
    ")"
   ]
  },
  {
   "cell_type": "code",
   "execution_count": 30,
   "id": "355919ee",
   "metadata": {},
   "outputs": [
    {
     "data": {
      "image/png": "[encoded data removed]",
      "text/plain": [
       "<Figure size 432x288 with 1 Axes>"
      ]
     },
     "metadata": {
      "needs_background": "light"
     },
     "output_type": "display_data"
    },
    {
     "data": {
      "image/png": "[encoded data removed]",
      "text/plain": [
       "<Figure size 432x288 with 1 Axes>"
      ]
     },
     "metadata": {
      "needs_background": "light"
     },
     "output_type": "display_data"
    }
   ],
   "source": [
    "plt.title   (\" Train loss and validation loss\")\n",
    "plt.plot(history.history['loss'], label='Train Loss')\n",
    "plt.plot(history.history['val_loss'], label='Validation Loss')\n",
    "plt.legend()\n",
    "plt.show()\n",
    "\n",
    "plt.title(\"Train accuracy  and Validation accuracy\")\n",
    "plt.plot(history.history['accuracy'], label='Train Accuracy')\n",
    "plt.plot(history.history['val_accuracy'], label='Validation Accuracy')\n",
    "plt.legend()\n",
    "plt.show()"
   ]
  }
 ],
 "metadata": {
  "kernelspec": {
   "display_name": "Python 3 (ipykernel)",
   "language": "python",
   "name": "python3"
  },
  "language_info": {
   "codemirror_mode": {
    "name": "ipython",
    "version": 3
   },
   "file_extension": ".py",
   "mimetype": "text/x-python",
   "name": "python",
   "nbconvert_exporter": "python",
   "pygments_lexer": "ipython3",
   "version": "3.7.9"
  }
 },
 "nbformat": 4,
 "nbformat_minor": 5
}
